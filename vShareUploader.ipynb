{
  "nbformat": 4,
  "nbformat_minor": 0,
  "metadata": {
    "colab": {
      "name": "vShareUploader.ipynb",
      "provenance": [],
      "collapsed_sections": []
    },
    "kernelspec": {
      "name": "python3",
      "display_name": "Python 3"
    }
  },
  "cells": [
    {
      "cell_type": "code",
      "metadata": {
        "id": "gwtutAU1ASIZ",
        "colab_type": "code",
        "colab": {}
      },
      "source": [
        "# Mount your google drive by running this cell\n",
        "\n",
        "from google.colab import drive\n",
        "drive.mount('/content/drive')"
      ],
      "execution_count": 0,
      "outputs": []
    },
    {
      "cell_type": "code",
      "metadata": {
        "id": "CBAiT5aMx6iZ",
        "colab_type": "code",
        "cellView": "form",
        "colab": {}
      },
      "source": [
        "path = '/content/drive/' #@param{'type': 'string'}"
      ],
      "execution_count": 0,
      "outputs": []
    },
    {
      "cell_type": "code",
      "metadata": {
        "id": "_oJedqVCxqYl",
        "colab_type": "code",
        "colab": {}
      },
      "source": [
        "!curl --progress-bar -F \"file=@{path}\" https://api.vshare.is/upload | tee /dev/null"
      ],
      "execution_count": 0,
      "outputs": []
    }
  ]
}